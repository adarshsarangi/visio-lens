{
 "cells": [
  {
   "cell_type": "code",
   "execution_count": 2,
   "metadata": {},
   "outputs": [
    {
     "name": "stderr",
     "output_type": "stream",
     "text": [
      "c:\\Users\\tilak\\OneDrive\\Desktop\\ObjectDetection\\myenv\\Lib\\site-packages\\torchvision\\models\\_utils.py:208: UserWarning: The parameter 'pretrained' is deprecated since 0.13 and may be removed in the future, please use 'weights' instead.\n",
      "  warnings.warn(\n",
      "c:\\Users\\tilak\\OneDrive\\Desktop\\ObjectDetection\\myenv\\Lib\\site-packages\\torchvision\\models\\_utils.py:223: UserWarning: Arguments other than a weight enum or `None` for 'weights' are deprecated since 0.13 and may be removed in the future. The current behavior is equivalent to passing `weights=FasterRCNN_ResNet50_FPN_Weights.COCO_V1`. You can also use `weights=FasterRCNN_ResNet50_FPN_Weights.DEFAULT` to get the most up-to-date weights.\n",
      "  warnings.warn(msg)\n"
     ]
    }
   ],
   "source": [
    "import torchvision\n",
    "model=torchvision.models.detection.fasterrcnn_resnet50_fpn(pretrained=True)"
   ]
  },
  {
   "cell_type": "code",
   "execution_count": 4,
   "metadata": {},
   "outputs": [],
   "source": [
    "import random\n",
    "from PIL import Image,ImageDraw\n",
    "from collections import Counter\n",
    "import matplotlib.pyplot as plt\n",
    "from sklearn.model_selection import train_test_split\n",
    "import numpy as np \n",
    "import pandas as pd\n",
    "import os\n",
    "\n",
    "import torch\n",
    "import torchvision\n",
    "from torchvision import transforms as T\n",
    "from torchvision.models.detection.faster_rcnn import FastRCNNPredictor"
   ]
  },
  {
   "cell_type": "code",
   "execution_count": 5,
   "metadata": {},
   "outputs": [],
   "source": [
    "train=pd.read_csv(\"subset.csv\")"
   ]
  },
  {
   "cell_type": "code",
   "execution_count": 6,
   "metadata": {},
   "outputs": [
    {
     "data": {
      "text/html": [
       "<div>\n",
       "<style scoped>\n",
       "    .dataframe tbody tr th:only-of-type {\n",
       "        vertical-align: middle;\n",
       "    }\n",
       "\n",
       "    .dataframe tbody tr th {\n",
       "        vertical-align: top;\n",
       "    }\n",
       "\n",
       "    .dataframe thead th {\n",
       "        text-align: right;\n",
       "    }\n",
       "</style>\n",
       "<table border=\"1\" class=\"dataframe\">\n",
       "  <thead>\n",
       "    <tr style=\"text-align: right;\">\n",
       "      <th></th>\n",
       "      <th>ImageID</th>\n",
       "      <th>Source</th>\n",
       "      <th>LabelName</th>\n",
       "      <th>Confidence</th>\n",
       "      <th>XMin</th>\n",
       "      <th>XMax</th>\n",
       "      <th>YMin</th>\n",
       "      <th>YMax</th>\n",
       "      <th>IsOccluded</th>\n",
       "      <th>IsTruncated</th>\n",
       "      <th>IsGroupOf</th>\n",
       "      <th>IsDepiction</th>\n",
       "      <th>IsInside</th>\n",
       "    </tr>\n",
       "  </thead>\n",
       "  <tbody>\n",
       "    <tr>\n",
       "      <th>0</th>\n",
       "      <td>004fd1f0df55b7fa</td>\n",
       "      <td>activemil</td>\n",
       "      <td>/m/0fly7</td>\n",
       "      <td>1</td>\n",
       "      <td>0.222326</td>\n",
       "      <td>0.485929</td>\n",
       "      <td>0.710625</td>\n",
       "      <td>0.995000</td>\n",
       "      <td>0</td>\n",
       "      <td>0</td>\n",
       "      <td>0</td>\n",
       "      <td>0</td>\n",
       "      <td>0</td>\n",
       "    </tr>\n",
       "    <tr>\n",
       "      <th>1</th>\n",
       "      <td>004fd1f0df55b7fa</td>\n",
       "      <td>xclick</td>\n",
       "      <td>/m/0fly7</td>\n",
       "      <td>1</td>\n",
       "      <td>0.585366</td>\n",
       "      <td>0.823640</td>\n",
       "      <td>0.625625</td>\n",
       "      <td>0.999375</td>\n",
       "      <td>1</td>\n",
       "      <td>1</td>\n",
       "      <td>0</td>\n",
       "      <td>0</td>\n",
       "      <td>0</td>\n",
       "    </tr>\n",
       "    <tr>\n",
       "      <th>2</th>\n",
       "      <td>08cb327bc3490925</td>\n",
       "      <td>activemil</td>\n",
       "      <td>/m/0fly7</td>\n",
       "      <td>1</td>\n",
       "      <td>0.341832</td>\n",
       "      <td>0.749764</td>\n",
       "      <td>0.812500</td>\n",
       "      <td>0.957500</td>\n",
       "      <td>0</td>\n",
       "      <td>0</td>\n",
       "      <td>0</td>\n",
       "      <td>0</td>\n",
       "      <td>0</td>\n",
       "    </tr>\n",
       "    <tr>\n",
       "      <th>3</th>\n",
       "      <td>09326752cf790d5d</td>\n",
       "      <td>activemil</td>\n",
       "      <td>/m/0fly7</td>\n",
       "      <td>1</td>\n",
       "      <td>0.100375</td>\n",
       "      <td>0.338649</td>\n",
       "      <td>0.385625</td>\n",
       "      <td>0.661875</td>\n",
       "      <td>1</td>\n",
       "      <td>0</td>\n",
       "      <td>0</td>\n",
       "      <td>0</td>\n",
       "      <td>0</td>\n",
       "    </tr>\n",
       "    <tr>\n",
       "      <th>4</th>\n",
       "      <td>09326752cf790d5d</td>\n",
       "      <td>xclick</td>\n",
       "      <td>/m/0fly7</td>\n",
       "      <td>1</td>\n",
       "      <td>0.057223</td>\n",
       "      <td>0.123827</td>\n",
       "      <td>0.296875</td>\n",
       "      <td>0.388750</td>\n",
       "      <td>0</td>\n",
       "      <td>0</td>\n",
       "      <td>0</td>\n",
       "      <td>0</td>\n",
       "      <td>0</td>\n",
       "    </tr>\n",
       "  </tbody>\n",
       "</table>\n",
       "</div>"
      ],
      "text/plain": [
       "            ImageID     Source LabelName  Confidence      XMin      XMax  \\\n",
       "0  004fd1f0df55b7fa  activemil  /m/0fly7           1  0.222326  0.485929   \n",
       "1  004fd1f0df55b7fa     xclick  /m/0fly7           1  0.585366  0.823640   \n",
       "2  08cb327bc3490925  activemil  /m/0fly7           1  0.341832  0.749764   \n",
       "3  09326752cf790d5d  activemil  /m/0fly7           1  0.100375  0.338649   \n",
       "4  09326752cf790d5d     xclick  /m/0fly7           1  0.057223  0.123827   \n",
       "\n",
       "       YMin      YMax  IsOccluded  IsTruncated  IsGroupOf  IsDepiction  \\\n",
       "0  0.710625  0.995000           0            0          0            0   \n",
       "1  0.625625  0.999375           1            1          0            0   \n",
       "2  0.812500  0.957500           0            0          0            0   \n",
       "3  0.385625  0.661875           1            0          0            0   \n",
       "4  0.296875  0.388750           0            0          0            0   \n",
       "\n",
       "   IsInside  \n",
       "0         0  \n",
       "1         0  \n",
       "2         0  \n",
       "3         0  \n",
       "4         0  "
      ]
     },
     "execution_count": 6,
     "metadata": {},
     "output_type": "execute_result"
    }
   ],
   "source": [
    "train.head()"
   ]
  },
  {
   "cell_type": "code",
   "execution_count": 7,
   "metadata": {},
   "outputs": [],
   "source": [
    "df = train[[\"ImageID\", \"XMin\", \"YMin\", \"XMax\", \"YMax\"]]"
   ]
  },
  {
   "cell_type": "code",
   "execution_count": 8,
   "metadata": {},
   "outputs": [
    {
     "data": {
      "text/html": [
       "<div>\n",
       "<style scoped>\n",
       "    .dataframe tbody tr th:only-of-type {\n",
       "        vertical-align: middle;\n",
       "    }\n",
       "\n",
       "    .dataframe tbody tr th {\n",
       "        vertical-align: top;\n",
       "    }\n",
       "\n",
       "    .dataframe thead th {\n",
       "        text-align: right;\n",
       "    }\n",
       "</style>\n",
       "<table border=\"1\" class=\"dataframe\">\n",
       "  <thead>\n",
       "    <tr style=\"text-align: right;\">\n",
       "      <th></th>\n",
       "      <th>ImageID</th>\n",
       "      <th>Source</th>\n",
       "      <th>LabelName</th>\n",
       "      <th>Confidence</th>\n",
       "      <th>XMin</th>\n",
       "      <th>XMax</th>\n",
       "      <th>YMin</th>\n",
       "      <th>YMax</th>\n",
       "      <th>IsOccluded</th>\n",
       "      <th>IsTruncated</th>\n",
       "      <th>IsGroupOf</th>\n",
       "      <th>IsDepiction</th>\n",
       "      <th>IsInside</th>\n",
       "    </tr>\n",
       "  </thead>\n",
       "  <tbody>\n",
       "    <tr>\n",
       "      <th>0</th>\n",
       "      <td>004fd1f0df55b7fa</td>\n",
       "      <td>activemil</td>\n",
       "      <td>/m/0fly7</td>\n",
       "      <td>1</td>\n",
       "      <td>0.222326</td>\n",
       "      <td>0.485929</td>\n",
       "      <td>0.710625</td>\n",
       "      <td>0.995000</td>\n",
       "      <td>0</td>\n",
       "      <td>0</td>\n",
       "      <td>0</td>\n",
       "      <td>0</td>\n",
       "      <td>0</td>\n",
       "    </tr>\n",
       "    <tr>\n",
       "      <th>1</th>\n",
       "      <td>004fd1f0df55b7fa</td>\n",
       "      <td>xclick</td>\n",
       "      <td>/m/0fly7</td>\n",
       "      <td>1</td>\n",
       "      <td>0.585366</td>\n",
       "      <td>0.823640</td>\n",
       "      <td>0.625625</td>\n",
       "      <td>0.999375</td>\n",
       "      <td>1</td>\n",
       "      <td>1</td>\n",
       "      <td>0</td>\n",
       "      <td>0</td>\n",
       "      <td>0</td>\n",
       "    </tr>\n",
       "    <tr>\n",
       "      <th>2</th>\n",
       "      <td>08cb327bc3490925</td>\n",
       "      <td>activemil</td>\n",
       "      <td>/m/0fly7</td>\n",
       "      <td>1</td>\n",
       "      <td>0.341832</td>\n",
       "      <td>0.749764</td>\n",
       "      <td>0.812500</td>\n",
       "      <td>0.957500</td>\n",
       "      <td>0</td>\n",
       "      <td>0</td>\n",
       "      <td>0</td>\n",
       "      <td>0</td>\n",
       "      <td>0</td>\n",
       "    </tr>\n",
       "    <tr>\n",
       "      <th>3</th>\n",
       "      <td>09326752cf790d5d</td>\n",
       "      <td>activemil</td>\n",
       "      <td>/m/0fly7</td>\n",
       "      <td>1</td>\n",
       "      <td>0.100375</td>\n",
       "      <td>0.338649</td>\n",
       "      <td>0.385625</td>\n",
       "      <td>0.661875</td>\n",
       "      <td>1</td>\n",
       "      <td>0</td>\n",
       "      <td>0</td>\n",
       "      <td>0</td>\n",
       "      <td>0</td>\n",
       "    </tr>\n",
       "    <tr>\n",
       "      <th>4</th>\n",
       "      <td>09326752cf790d5d</td>\n",
       "      <td>xclick</td>\n",
       "      <td>/m/0fly7</td>\n",
       "      <td>1</td>\n",
       "      <td>0.057223</td>\n",
       "      <td>0.123827</td>\n",
       "      <td>0.296875</td>\n",
       "      <td>0.388750</td>\n",
       "      <td>0</td>\n",
       "      <td>0</td>\n",
       "      <td>0</td>\n",
       "      <td>0</td>\n",
       "      <td>0</td>\n",
       "    </tr>\n",
       "  </tbody>\n",
       "</table>\n",
       "</div>"
      ],
      "text/plain": [
       "            ImageID     Source LabelName  Confidence      XMin      XMax  \\\n",
       "0  004fd1f0df55b7fa  activemil  /m/0fly7           1  0.222326  0.485929   \n",
       "1  004fd1f0df55b7fa     xclick  /m/0fly7           1  0.585366  0.823640   \n",
       "2  08cb327bc3490925  activemil  /m/0fly7           1  0.341832  0.749764   \n",
       "3  09326752cf790d5d  activemil  /m/0fly7           1  0.100375  0.338649   \n",
       "4  09326752cf790d5d     xclick  /m/0fly7           1  0.057223  0.123827   \n",
       "\n",
       "       YMin      YMax  IsOccluded  IsTruncated  IsGroupOf  IsDepiction  \\\n",
       "0  0.710625  0.995000           0            0          0            0   \n",
       "1  0.625625  0.999375           1            1          0            0   \n",
       "2  0.812500  0.957500           0            0          0            0   \n",
       "3  0.385625  0.661875           1            0          0            0   \n",
       "4  0.296875  0.388750           0            0          0            0   \n",
       "\n",
       "   IsInside  \n",
       "0         0  \n",
       "1         0  \n",
       "2         0  \n",
       "3         0  \n",
       "4         0  "
      ]
     },
     "execution_count": 8,
     "metadata": {},
     "output_type": "execute_result"
    }
   ],
   "source": [
    "train.head()"
   ]
  },
  {
   "cell_type": "code",
   "execution_count": 9,
   "metadata": {},
   "outputs": [
    {
     "name": "stderr",
     "output_type": "stream",
     "text": [
      "C:\\Users\\tilak\\AppData\\Local\\Temp\\ipykernel_988\\2215214666.py:1: SettingWithCopyWarning: \n",
      "A value is trying to be set on a copy of a slice from a DataFrame.\n",
      "Try using .loc[row_indexer,col_indexer] = value instead\n",
      "\n",
      "See the caveats in the documentation: https://pandas.pydata.org/pandas-docs/stable/user_guide/indexing.html#returning-a-view-versus-a-copy\n",
      "  df[\"XMin\"]=pd.to_numeric(df[\"XMin\"])\n",
      "C:\\Users\\tilak\\AppData\\Local\\Temp\\ipykernel_988\\2215214666.py:2: SettingWithCopyWarning: \n",
      "A value is trying to be set on a copy of a slice from a DataFrame.\n",
      "Try using .loc[row_indexer,col_indexer] = value instead\n",
      "\n",
      "See the caveats in the documentation: https://pandas.pydata.org/pandas-docs/stable/user_guide/indexing.html#returning-a-view-versus-a-copy\n",
      "  df[\"YMin\"]=pd.to_numeric(df[\"YMin\"])\n",
      "C:\\Users\\tilak\\AppData\\Local\\Temp\\ipykernel_988\\2215214666.py:3: SettingWithCopyWarning: \n",
      "A value is trying to be set on a copy of a slice from a DataFrame.\n",
      "Try using .loc[row_indexer,col_indexer] = value instead\n",
      "\n",
      "See the caveats in the documentation: https://pandas.pydata.org/pandas-docs/stable/user_guide/indexing.html#returning-a-view-versus-a-copy\n",
      "  df[\"XMax\"]=pd.to_numeric(df[\"XMax\"])\n",
      "C:\\Users\\tilak\\AppData\\Local\\Temp\\ipykernel_988\\2215214666.py:4: SettingWithCopyWarning: \n",
      "A value is trying to be set on a copy of a slice from a DataFrame.\n",
      "Try using .loc[row_indexer,col_indexer] = value instead\n",
      "\n",
      "See the caveats in the documentation: https://pandas.pydata.org/pandas-docs/stable/user_guide/indexing.html#returning-a-view-versus-a-copy\n",
      "  df[\"YMax\"]=pd.to_numeric(df[\"YMax\"])\n"
     ]
    }
   ],
   "source": [
    "df[\"XMin\"]=pd.to_numeric(df[\"XMin\"])\n",
    "df[\"YMin\"]=pd.to_numeric(df[\"YMin\"])\n",
    "df[\"XMax\"]=pd.to_numeric(df[\"XMax\"])\n",
    "df[\"YMax\"]=pd.to_numeric(df[\"YMax\"])"
   ]
  },
  {
   "cell_type": "code",
   "execution_count": 10,
   "metadata": {},
   "outputs": [
    {
     "data": {
      "text/html": [
       "<div>\n",
       "<style scoped>\n",
       "    .dataframe tbody tr th:only-of-type {\n",
       "        vertical-align: middle;\n",
       "    }\n",
       "\n",
       "    .dataframe tbody tr th {\n",
       "        vertical-align: top;\n",
       "    }\n",
       "\n",
       "    .dataframe thead th {\n",
       "        text-align: right;\n",
       "    }\n",
       "</style>\n",
       "<table border=\"1\" class=\"dataframe\">\n",
       "  <thead>\n",
       "    <tr style=\"text-align: right;\">\n",
       "      <th></th>\n",
       "      <th>ImageID</th>\n",
       "      <th>XMin</th>\n",
       "      <th>YMin</th>\n",
       "      <th>XMax</th>\n",
       "      <th>YMax</th>\n",
       "    </tr>\n",
       "  </thead>\n",
       "  <tbody>\n",
       "    <tr>\n",
       "      <th>0</th>\n",
       "      <td>004fd1f0df55b7fa</td>\n",
       "      <td>0.222326</td>\n",
       "      <td>0.710625</td>\n",
       "      <td>0.485929</td>\n",
       "      <td>0.995000</td>\n",
       "    </tr>\n",
       "    <tr>\n",
       "      <th>1</th>\n",
       "      <td>004fd1f0df55b7fa</td>\n",
       "      <td>0.585366</td>\n",
       "      <td>0.625625</td>\n",
       "      <td>0.823640</td>\n",
       "      <td>0.999375</td>\n",
       "    </tr>\n",
       "    <tr>\n",
       "      <th>2</th>\n",
       "      <td>08cb327bc3490925</td>\n",
       "      <td>0.341832</td>\n",
       "      <td>0.812500</td>\n",
       "      <td>0.749764</td>\n",
       "      <td>0.957500</td>\n",
       "    </tr>\n",
       "    <tr>\n",
       "      <th>3</th>\n",
       "      <td>09326752cf790d5d</td>\n",
       "      <td>0.100375</td>\n",
       "      <td>0.385625</td>\n",
       "      <td>0.338649</td>\n",
       "      <td>0.661875</td>\n",
       "    </tr>\n",
       "    <tr>\n",
       "      <th>4</th>\n",
       "      <td>09326752cf790d5d</td>\n",
       "      <td>0.057223</td>\n",
       "      <td>0.296875</td>\n",
       "      <td>0.123827</td>\n",
       "      <td>0.388750</td>\n",
       "    </tr>\n",
       "  </tbody>\n",
       "</table>\n",
       "</div>"
      ],
      "text/plain": [
       "            ImageID      XMin      YMin      XMax      YMax\n",
       "0  004fd1f0df55b7fa  0.222326  0.710625  0.485929  0.995000\n",
       "1  004fd1f0df55b7fa  0.585366  0.625625  0.823640  0.999375\n",
       "2  08cb327bc3490925  0.341832  0.812500  0.749764  0.957500\n",
       "3  09326752cf790d5d  0.100375  0.385625  0.338649  0.661875\n",
       "4  09326752cf790d5d  0.057223  0.296875  0.123827  0.388750"
      ]
     },
     "execution_count": 10,
     "metadata": {},
     "output_type": "execute_result"
    }
   ],
   "source": [
    "df.head()"
   ]
  },
  {
   "cell_type": "code",
   "execution_count": 11,
   "metadata": {},
   "outputs": [],
   "source": [
    "unique_images=df.ImageID.unique()"
   ]
  },
  {
   "cell_type": "code",
   "execution_count": 12,
   "metadata": {},
   "outputs": [],
   "source": [
    "class CustDat(torch.utils.data.Dataset):\n",
    "    def __init__(self,df,unique_images,indices):\n",
    "        self.df=df\n",
    "        self.unique_images=unique_images\n",
    "        self.indices=indices\n",
    "    def __len__(self):\n",
    "        return len(self.indices)\n",
    "    def __getitem__(self,idx):\n",
    "        image_name=self.unique_images[self.indices[idx]]\n",
    "        boxes=self.df[self.df.ImageID==image_name].values[:,1:].astype(\"float\")\n",
    "        img=Image.open(\"object-detection\\\\OIDv4_ToolKit\\\\OID\\Dataset\\\\train\\\\Jeans\\\\\"+image_name+\".jpg\").convert(\"RGB\")\n",
    "        labels=torch.ones((boxes.shape[0]),dtype=torch.int64)\n",
    "        target={}\n",
    "        target[\"boxes\"]=torch.tensor(boxes)\n",
    "        target[\"label\"]=labels\n",
    "        return T.ToTensor()(img) ,target\n",
    "        "
   ]
  },
  {
   "cell_type": "code",
   "execution_count": 13,
   "metadata": {},
   "outputs": [],
   "source": [
    "train_inds ,val_inds=train_test_split(range(unique_images.shape[0]),test_size=0.1)"
   ]
  },
  {
   "cell_type": "code",
   "execution_count": 14,
   "metadata": {},
   "outputs": [],
   "source": [
    "def custom_collate(data):\n",
    "    return data\n"
   ]
  },
  {
   "cell_type": "code",
   "execution_count": 15,
   "metadata": {},
   "outputs": [],
   "source": [
    "train_dl=torch.utils.data.DataLoader(CustDat(df,unique_images,train_inds),batch_size=16,shuffle=True,collate_fn=custom_collate,\n",
    "                                     pin_memory=True if torch.cuda.is_available() else False)"
   ]
  },
  {
   "cell_type": "code",
   "execution_count": 16,
   "metadata": {},
   "outputs": [],
   "source": [
    "val_dl=torch.utils.data.DataLoader(CustDat(df,unique_images,val_inds),batch_size=8,shuffle=True,collate_fn=custom_collate,\n",
    "                                     pin_memory=True if torch.cuda.is_available() else False)"
   ]
  },
  {
   "cell_type": "code",
   "execution_count": 17,
   "metadata": {},
   "outputs": [
    {
     "name": "stderr",
     "output_type": "stream",
     "text": [
      "c:\\Users\\tilak\\OneDrive\\Desktop\\ObjectDetection\\myenv\\Lib\\site-packages\\torchvision\\models\\_utils.py:208: UserWarning: The parameter 'pretrained' is deprecated since 0.13 and may be removed in the future, please use 'weights' instead.\n",
      "  warnings.warn(\n",
      "c:\\Users\\tilak\\OneDrive\\Desktop\\ObjectDetection\\myenv\\Lib\\site-packages\\torchvision\\models\\_utils.py:223: UserWarning: Arguments other than a weight enum or `None` for 'weights' are deprecated since 0.13 and may be removed in the future. The current behavior is equivalent to passing `weights=FasterRCNN_ResNet50_FPN_Weights.COCO_V1`. You can also use `weights=FasterRCNN_ResNet50_FPN_Weights.DEFAULT` to get the most up-to-date weights.\n",
      "  warnings.warn(msg)\n"
     ]
    }
   ],
   "source": [
    "model=torchvision.models.detection.fasterrcnn_resnet50_fpn(pretrained=True)\n",
    "num_classes=2\n",
    "in_features=model.roi_heads.box_predictor.cls_score.in_features\n",
    "model.roi_heads.box_predictor=FastRCNNPredictor(in_features,num_classes)"
   ]
  },
  {
   "cell_type": "code",
   "execution_count": 18,
   "metadata": {},
   "outputs": [],
   "source": [
    "device=torch.device('cuda') if torch.cuda.is_available() else torch.device('cpu')"
   ]
  },
  {
   "cell_type": "code",
   "execution_count": 19,
   "metadata": {},
   "outputs": [],
   "source": [
    "optimizer=torch.optim.SGD(model.parameters(),lr=0.001,momentum=0.9,weight_decay=0.0005)\n",
    "num_epochs=5"
   ]
  },
  {
   "cell_type": "code",
   "execution_count": null,
   "metadata": {},
   "outputs": [],
   "source": [
    "model.to(device)\n",
    "for epochs in range(num_epochs):\n",
    "    epoch_loss=0\n",
    "    for data in train_dl:\n",
    "        imgs=[]\n",
    "        targets=[]\n",
    "        for d in data:\n",
    "            imgs.append(d[0].to(device))\n",
    "            targ={}\n",
    "            targ[\"boxes\"]=d[1][\"boxes\"].to(device)\n",
    "            targ[\"labels\"]=d[1][\"label\"].to(device)\n",
    "            targets.append(targ)\n",
    "        loss_dict=model(imgs,targets)\n",
    "        loss=sum(v for v in loss_dict.values())\n",
    "        epoch_loss+=loss.cpu().detach().numpy()\n",
    "        optimizer.zero_grad()\n",
    "        loss.backward()\n",
    "        optimizer.step()\n",
    "    print(epoch_loss)\n",
    "        "
   ]
  },
  {
   "cell_type": "code",
   "execution_count": null,
   "metadata": {},
   "outputs": [],
   "source": [
    "model.eval()\n",
    "data = iter(val_dl).__next__()\n",
    "img=data[0][0]\n",
    "boxes=data[0][1][\"boxes\"]\n",
    "labels=data[0][1][\"label\"]"
   ]
  },
  {
   "cell_type": "code",
   "execution_count": null,
   "metadata": {},
   "outputs": [],
   "source": [
    "output=model([img.to(device)])\n",
    "out_bbox=output[0][\"boxes\"]\n",
    "out_scores=output[0][\"scores\"]"
   ]
  }
 ],
 "metadata": {
  "kernelspec": {
   "display_name": "myenv",
   "language": "python",
   "name": "python3"
  },
  "language_info": {
   "codemirror_mode": {
    "name": "ipython",
    "version": 3
   },
   "file_extension": ".py",
   "mimetype": "text/x-python",
   "name": "python",
   "nbconvert_exporter": "python",
   "pygments_lexer": "ipython3",
   "version": "3.11.1"
  },
  "orig_nbformat": 4
 },
 "nbformat": 4,
 "nbformat_minor": 2
}
